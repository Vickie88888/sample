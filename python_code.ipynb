#This notebook will be used for the final Coursera Capstone Project
import pandas as np
import numpy as np
print("Hello Capstone Project Course!")
